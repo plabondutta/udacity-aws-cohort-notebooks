{
  "nbformat": 4,
  "nbformat_minor": 0,
  "metadata": {
    "colab": {
      "provenance": []
    },
    "kernelspec": {
      "name": "python3",
      "display_name": "Python 3"
    },
    "language_info": {
      "name": "python"
    }
  },
  "cells": [
    {
      "cell_type": "markdown",
      "source": [
        "Import the necessary libraries:"
      ],
      "metadata": {
        "id": "sKwB59h82WBM"
      }
    },
    {
      "cell_type": "code",
      "execution_count": null,
      "metadata": {
        "id": "XNrnVQ6O2Kse"
      },
      "outputs": [],
      "source": [
        "import numpy as np"
      ]
    },
    {
      "cell_type": "markdown",
      "source": [
        "Define the activation function and its derivative. Let's use the sigmoid function:"
      ],
      "metadata": {
        "id": "OjVJ1wkk2cYk"
      }
    },
    {
      "cell_type": "code",
      "source": [
        "def sigmoid(x):\n",
        "    s = 1 / (1 + np.exp(-x))\n",
        "    return s\n",
        "\n",
        "def sigmoid_derivative(x):\n",
        "    s = sigmoid(x)\n",
        "    ds = s * (1 - s)\n",
        "    return ds\n"
      ],
      "metadata": {
        "id": "qmakLvjt2TVM"
      },
      "execution_count": null,
      "outputs": []
    },
    {
      "cell_type": "markdown",
      "source": [
        "Define the forward pass function, which calculates the output of the neural network given the input and the current weights and biases:"
      ],
      "metadata": {
        "id": "nD_cdcZe2n08"
      }
    },
    {
      "cell_type": "code",
      "source": [
        "def forward_pass(X, W1, b1, W2, b2):\n",
        "\n",
        "    # Calculate the weighted sum and activation of the hidden layer\n",
        "    hidden_sum = np.dot(X, W1) + b1\n",
        "    hidden_output = sigmoid(hidden_sum)\n",
        "\n",
        "    # Calculate the weighted sum and activation of the output layer\n",
        "    output_sum = np.dot(hidden_output, W2) + b2\n",
        "    output = sigmoid(output_sum)\n",
        "\n",
        "    return hidden_output, output\n"
      ],
      "metadata": {
        "id": "bMLjs8lD2oab"
      },
      "execution_count": null,
      "outputs": []
    },
    {
      "cell_type": "markdown",
      "source": [
        "Define the backward pass function, which calculates the gradients of the loss with respect to the weights and biases using the chain rule:"
      ],
      "metadata": {
        "id": "xybVuApQ2z0D"
      }
    },
    {
      "cell_type": "code",
      "source": [
        "def backward_pass(X, y, hidden_output, output, W2):\n",
        "    # Calculate the error at the output layer\n",
        "    output_error = y - output\n",
        "\n",
        "    # Calculate the gradient of the loss with respect to the weights and biases\n",
        "    #output_gradient = np.dot(output_error, hidden_output.T)\n",
        "    output_gradient = output_error * sigmoid_derivative(output)\n",
        "    #hidden_gradient = np.dot(np.dot(W2.T, output_error) * sigmoid_derivative(hidden_output), X.T)\n",
        "    hidden_gradient = np.dot(output_gradient, W2.T) * sigmoid_derivative(hidden_output)\n",
        "\n",
        "    return output_gradient, hidden_gradient\n"
      ],
      "metadata": {
        "id": "wlWXzc8j21_N"
      },
      "execution_count": null,
      "outputs": []
    },
    {
      "cell_type": "markdown",
      "source": [
        "Define the weight update function, which adjusts the weights and biases based on the calculated gradients and a learning rate:\n",
        "python"
      ],
      "metadata": {
        "id": "uMhoi6fz3DIY"
      }
    },
    {
      "cell_type": "code",
      "source": [
        "def weight_update(X, hidden_output, output, output_gradient, hidden_gradient, W1, b1, W2, b2, learning_rate):\n",
        "\n",
        "    # Update the weights and biases of the output layer\n",
        "    W2 += np.dot(hidden_output.T, output_gradient) * learning_rate\n",
        "    b2 += np.sum(output_gradient, axis=0) * learning_rate\n",
        "\n",
        "    # Update the weights and biases of the hidden layer\n",
        "    W1 += np.dot(X.T, hidden_gradient) * learning_rate\n",
        "    b1 += np.sum(hidden_gradient, axis=0) * learning_rate\n",
        "\n",
        "    return W1, b1, W2, b2\n"
      ],
      "metadata": {
        "id": "FijVb1903D0S"
      },
      "execution_count": null,
      "outputs": []
    },
    {
      "cell_type": "markdown",
      "source": [
        "Now, let's test the implementation by training the neural network on a simple dataset. Initialize the weights and biases, and define the training loop:"
      ],
      "metadata": {
        "id": "KyHW6aGP3Siq"
      }
    },
    {
      "cell_type": "code",
      "source": [
        "# Dataset\n",
        "X = np.array([[0, 0], [0, 1], [1, 0], [1, 1]])\n",
        "y = np.array([[0], [1], [1], [0]])\n",
        "\n",
        "# Initialize weights and biases\n",
        "W1 = np.random.randn(2, 4)  # Weights of the hidden layer\n",
        "b1 = np.zeros((1, 4))  # Biases of the hidden layer\n",
        "W2 = np.random.randn(4, 1)  # Weights of the output layer\n",
        "b2 = np.zeros((1, 1))  # Biases of the output layer\n",
        "\n",
        "# Training loop\n",
        "epochs = 10000\n",
        "learning_rate = 0.1\n",
        "for epoch in range(epochs):\n",
        "    # Forward pass\n",
        "    hidden_output, output = forward_pass(X, W1, b1, W2, b2)\n",
        "\n",
        "    # Backward pass\n",
        "    output_gradient, hidden_gradient = backward_pass(X, y, hidden_output, output, W2)\n",
        "\n",
        "    # Weight update\n",
        "    W1, b1, W2, b2 = weight_update(X, hidden_output, output, output_gradient, hidden_gradient,\n",
        "                                  W1, b1, W2, b2, learning_rate)\n",
        "\n",
        "# Print the final output after training\n",
        "_, output = forward_pass(X, W1, b1, W2, b2)\n",
        "print(\"Final Output:\")\n",
        "print(output)\n"
      ],
      "metadata": {
        "id": "5hHkB_WH3TBt",
        "colab": {
          "base_uri": "https://localhost:8080/"
        },
        "outputId": "f0b968ed-36f0-4cd7-9d2d-17f6f80cd4f3"
      },
      "execution_count": null,
      "outputs": [
        {
          "output_type": "stream",
          "name": "stdout",
          "text": [
            "Final Output:\n",
            "[[0.24357279]\n",
            " [0.71233379]\n",
            " [0.72307707]\n",
            " [0.25187655]]\n"
          ]
        }
      ]
    },
    {
      "cell_type": "code",
      "source": [],
      "metadata": {
        "id": "TAxsoAL3Q2JC"
      },
      "execution_count": null,
      "outputs": []
    }
  ]
}